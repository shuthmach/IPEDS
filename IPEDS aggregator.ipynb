{
 "cells": [
  {
   "cell_type": "code",
   "execution_count": 1,
   "metadata": {},
   "outputs": [],
   "source": [
    "import pandas as pd\n",
    "import os\n",
    "from pathlib import Path"
   ]
  },
  {
   "cell_type": "code",
   "execution_count": 57,
   "metadata": {},
   "outputs": [],
   "source": [
    "cols = ['F1C191']\n",
    "df = pd.DataFrame()"
   ]
  },
  {
   "cell_type": "code",
   "execution_count": 61,
   "metadata": {},
   "outputs": [],
   "source": [
    "path = 'C:/Users/sages/Downloads/IPEDS Annual Finance'\n",
    "with os.scandir(path) as it:\n",
    "    for entry in it:\n",
    "        if entry.name.endswith('.csv') and entry.is_file():\n",
    "            file_path = path + '/' + entry.name\n",
    "            stock_format = pd.read_csv(file_path, index_col = 0)\n",
    "            col_name = Path(entry.name).stem\n",
    "            #print(stock_format.head())\n",
    "            df[col_name] = stock_format['F1C191']"
   ]
  },
  {
   "cell_type": "code",
   "execution_count": 62,
   "metadata": {},
   "outputs": [],
   "source": [
    "total_expenses = pd.DataFrame(df)"
   ]
  },
  {
   "cell_type": "code",
   "execution_count": 71,
   "metadata": {},
   "outputs": [],
   "source": [
    "total_expenses['% change'] = (total_expenses['f1718_f1a']-total_expenses['f0405_f1a'])/total_expenses['f0405_f1a']"
   ]
  },
  {
   "cell_type": "code",
   "execution_count": 72,
   "metadata": {},
   "outputs": [
    {
     "name": "stdout",
     "output_type": "stream",
     "text": [
      "         f0405_f1a  f0506_f1a_rv  f0607_f1a_rv  f0708_f1a_rv  f0809_f1a_rv  \\\n",
      "unitid                                                                       \n",
      "100654   118900950  1.238597e+08  1.263716e+08  1.321658e+08  1.229779e+08   \n",
      "100663  1604474740  1.707178e+09  1.824095e+09  2.213660e+09  2.223549e+09   \n",
      "100706   130588938  1.436712e+08  1.575728e+08  1.696541e+08  1.727208e+08   \n",
      "100724    95030770  9.997674e+07  1.099721e+08  1.229627e+08  1.281441e+08   \n",
      "100733    10058442  1.045001e+07  1.140238e+07  1.228310e+07  1.199138e+07   \n",
      "\n",
      "        f0910_f1a_rv  f1011_f1a_rv  f1112_f1a_rv  f1213_f1a_rv  f1314_f1a_rv  \\\n",
      "unitid                                                                         \n",
      "100654  1.389562e+08  1.409423e+08  1.394783e+08  1.418353e+08  1.351196e+08   \n",
      "100663  2.338666e+09  2.509611e+09  2.134955e+09  2.258234e+09  2.419150e+09   \n",
      "100706  1.784669e+08  1.953742e+08  1.995358e+08  2.102641e+08  2.138393e+08   \n",
      "100724  1.351048e+08  1.470331e+08  1.497230e+08  1.524999e+08  1.571184e+08   \n",
      "100733  1.212952e+07  1.328571e+07  1.479404e+07  1.532273e+07  1.654250e+07   \n",
      "\n",
      "        f1415_f1a_rv  f1516_f1a_rv  f1617_f1a_rv     f1718_f1a  % change  \n",
      "unitid                                                                    \n",
      "100654  1.522351e+08  1.422847e+08  1.495058e+08  1.488026e+08  0.251484  \n",
      "100663  2.508245e+09  2.645905e+09  2.861961e+09  3.028818e+09  0.887732  \n",
      "100706  2.101974e+08  2.164851e+08  2.270122e+08  2.396188e+08  0.834909  \n",
      "100724  1.433647e+08  1.404612e+08  1.403418e+08  1.483765e+08  0.561352  \n",
      "100733  1.809675e+07  2.090940e+07  2.240214e+07  2.003721e+07  0.992079  \n"
     ]
    }
   ],
   "source": [
    "print(total_expenses.head())"
   ]
  },
  {
   "cell_type": "code",
   "execution_count": 73,
   "metadata": {},
   "outputs": [
    {
     "name": "stdout",
     "output_type": "stream",
     "text": [
      "        f0405_f1a  f0506_f1a_rv  f0607_f1a_rv  f0708_f1a_rv  f0809_f1a_rv  \\\n",
      "UNITID                                                                      \n",
      "100654    9153322     8990947.0     8831280.0     9783591.0     8974558.0   \n",
      "100663   19562595    19177449.0    21778987.0    23774219.0    22044722.0   \n",
      "100706    8047676     9362320.0    10236140.0    10740295.0     9494792.0   \n",
      "100724    8413389     8793363.0    10098330.0    10745028.0    11041401.0   \n",
      "100733          0           0.0           0.0           0.0           0.0   \n",
      "\n",
      "        f0910_f1a_rv  f1011_f1a_rv  f1112_f1a_rv  f1213_f1a_rv  f1314_f1a_rv  \\\n",
      "UNITID                                                                         \n",
      "100654    11220476.0    11634076.0    13781404.0    14349955.0    16606235.0   \n",
      "100663    29931997.0    25376017.0    31257115.0    32301135.0    35173214.0   \n",
      "100706    10909946.0    13104024.0    14123434.0    15146590.0    16782372.0   \n",
      "100724    13683930.0    14814037.0    15795204.0    17102006.0    18746746.0   \n",
      "100733           0.0           0.0           0.0           0.0           0.0   \n",
      "\n",
      "        f1415_f1a_rv  f1516_f1a_rv  f1617_f1a_rv   f1718_f1a  % change  \n",
      "UNITID                                                                  \n",
      "100654    17112095.0    15733122.0    20550501.0  16744455.0  0.829331  \n",
      "100663    36186665.0    46444284.0    50272077.0  47901478.0  1.448626  \n",
      "100706    18648547.0    19343961.0    20998648.0  21184067.0  1.632321  \n",
      "100724    17115864.0    17402229.0    17139324.0  17633405.0  1.095874  \n",
      "100733           0.0           0.0           0.0         0.0       NaN  \n"
     ]
    }
   ],
   "source": [
    "df = pd.DataFrame()\n",
    "path = 'C:/Users/sages/Downloads/IPEDS Annual Finance'\n",
    "with os.scandir(path) as it:\n",
    "    for entry in it:\n",
    "        if entry.name.endswith('.csv') and entry.is_file():\n",
    "            file_path = path + '/' + entry.name\n",
    "            stock_format = pd.read_csv(file_path, index_col = 'UNITID')\n",
    "            col_name = Path(entry.name).stem\n",
    "            df[col_name] = stock_format['F1C061']\n",
    "            \n",
    "student_services = pd.DataFrame(df)\n",
    "student_services['% change'] = (student_services['f1718_f1a']-student_services['f0405_f1a'])/student_services['f0405_f1a']\n",
    "print(student_services.head())"
   ]
  },
  {
   "cell_type": "code",
   "execution_count": 74,
   "metadata": {},
   "outputs": [
    {
     "name": "stdout",
     "output_type": "stream",
     "text": [
      "        f0405_f1a  f0506_f1a_rv  f0607_f1a_rv  f0708_f1a_rv  f0809_f1a_rv  \\\n",
      "UNITID                                                                      \n",
      "100654    9169739     9061481.0     7226236.0     9205557.0     8841986.0   \n",
      "100663   25235088    29300799.0    33747516.0    31337276.0    30710833.0   \n",
      "100706    3634744     2557820.0     4333935.0     2516492.0     3329830.0   \n",
      "100724    7452691     7049137.0     8277965.0    10561306.0     9545551.0   \n",
      "100733          0           0.0           0.0           0.0           0.0   \n",
      "\n",
      "        f0910_f1a_rv  f1011_f1a_rv  f1112_f1a_rv  f1213_f1a_rv  f1314_f1a_rv  \\\n",
      "UNITID                                                                         \n",
      "100654    10552442.0     9494647.0    13552151.0     9936427.0    11623535.0   \n",
      "100663    44267283.0   415128373.0    51318015.0    51229886.0    62426979.0   \n",
      "100706     6788166.0     9482566.0     9111207.0     8911133.0     9579964.0   \n",
      "100724    10771350.0     8919211.0     8823298.0    10789588.0    11813054.0   \n",
      "100733           0.0           0.0           0.0           0.0           0.0   \n",
      "\n",
      "        f1415_f1a_rv  f1516_f1a_rv  f1617_f1a_rv   f1718_f1a  % change  \n",
      "UNITID                                                                  \n",
      "100654    12745315.0     9469374.0    11867931.0  11232916.0  0.224998  \n",
      "100663    64504845.0    70120450.0    80311188.0  86556442.0  2.430004  \n",
      "100706     9986734.0     9562835.0    10010801.0  13906502.0  2.825992  \n",
      "100724    10564753.0    11291388.0    11303152.0  13032805.0  0.748738  \n",
      "100733           0.0           0.0           0.0         0.0       NaN  \n"
     ]
    }
   ],
   "source": [
    "df = pd.DataFrame()\n",
    "path = 'C:/Users/sages/Downloads/IPEDS Annual Finance'\n",
    "with os.scandir(path) as it:\n",
    "    for entry in it:\n",
    "        if entry.name.endswith('.csv') and entry.is_file():\n",
    "            file_path = path + '/' + entry.name\n",
    "            stock_format = pd.read_csv(file_path, index_col = 'UNITID')\n",
    "            col_name = Path(entry.name).stem\n",
    "            df[col_name] = stock_format['F1C111']\n",
    "            \n",
    "aux_services = pd.DataFrame(df)\n",
    "aux_services['% change'] = (aux_services['f1718_f1a']-aux_services['f0405_f1a'])/aux_services['f0405_f1a']\n",
    "print(aux_services.head())"
   ]
  },
  {
   "cell_type": "code",
   "execution_count": 75,
   "metadata": {},
   "outputs": [
    {
     "name": "stdout",
     "output_type": "stream",
     "text": [
      "        % change  Student Services % Change  Aux Services % Change\n",
      "unitid                                                            \n",
      "100654  0.251484                   0.829331               0.224998\n",
      "100663  0.887732                   1.448626               2.430004\n",
      "100706  0.834909                   1.632321               2.825992\n",
      "100724  0.561352                   1.095874               0.748738\n",
      "100733  0.992079                        NaN                    NaN\n"
     ]
    }
   ],
   "source": [
    "df_final = pd.DataFrame(total_expenses['% change'])\n",
    "df_final['Student Services % Change'] = student_services['% change']\n",
    "df_final['Aux Services % Change'] = aux_services['% change']\n",
    "print(df_final.head())"
   ]
  },
  {
   "cell_type": "code",
   "execution_count": 77,
   "metadata": {},
   "outputs": [],
   "source": [
    "per_of_total = pd.DataFrame(total_expenses['% change'])\n",
    "per_of_total['Student Services % 18'] = student_services['f1718_f1a']/total_expenses['f1718_f1a']\n",
    "per_of_total['Student Services % 05'] = student_services['f0405_f1a']/total_expenses['f0405_f1a']\n",
    "per_of_total['Student Services Change'] = per_of_total['Student Services % 18'] - per_of_total['Student Services % 05']\n",
    "per_of_total['Aux Services % 18'] = aux_services['f1718_f1a']/total_expenses['f1718_f1a']\n",
    "per_of_total['Aux Services % 05'] = aux_services['f0405_f1a']/total_expenses['f0405_f1a']\n",
    "per_of_total['Aux Services Change'] = per_of_total['Aux Services % 18'] - per_of_total['Aux Services % 05']"
   ]
  },
  {
   "cell_type": "code",
   "execution_count": 78,
   "metadata": {},
   "outputs": [
    {
     "name": "stdout",
     "output_type": "stream",
     "text": [
      "        % change  Student Services % 18  Student Services % 05  \\\n",
      "unitid                                                           \n",
      "100654  0.251484               0.112528               0.076983   \n",
      "100663  0.887732               0.015815               0.012193   \n",
      "100706  0.834909               0.088407               0.061626   \n",
      "100724  0.561352               0.118842               0.088533   \n",
      "100733  0.992079               0.000000               0.000000   \n",
      "\n",
      "        Student Services Change  Aux Services % 18  Aux Services % 05  \\\n",
      "unitid                                                                  \n",
      "100654                 0.035545           0.075489           0.077121   \n",
      "100663                 0.003623           0.028578           0.015728   \n",
      "100706                 0.026781           0.058036           0.027833   \n",
      "100724                 0.030309           0.087836           0.078424   \n",
      "100733                 0.000000           0.000000           0.000000   \n",
      "\n",
      "        Aux Services Change  \n",
      "unitid                       \n",
      "100654            -0.001632  \n",
      "100663             0.012850  \n",
      "100706             0.030202  \n",
      "100724             0.009412  \n",
      "100733             0.000000  \n"
     ]
    }
   ],
   "source": [
    "print(per_of_total.head())"
   ]
  },
  {
   "cell_type": "code",
   "execution_count": 79,
   "metadata": {},
   "outputs": [],
   "source": [
    "per_of_total.sort_values(by='Aux Services Change', ascending=False, inplace=True)"
   ]
  },
  {
   "cell_type": "code",
   "execution_count": 80,
   "metadata": {},
   "outputs": [
    {
     "name": "stdout",
     "output_type": "stream",
     "text": [
      "        % change  Student Services % 18  Student Services % 05  \\\n",
      "unitid                                                           \n",
      "128300  8.359465               0.015487               0.000000   \n",
      "178439  0.347431               0.054163               0.030470   \n",
      "198464  0.747560               0.020919               0.013045   \n",
      "207661  0.743281               0.096869               0.127232   \n",
      "140960  1.319488               0.068053               0.061548   \n",
      "\n",
      "        Student Services Change  Aux Services % 18  Aux Services % 05  \\\n",
      "unitid                                                                  \n",
      "128300                 0.015487           0.408984           0.007915   \n",
      "178439                 0.023694           0.275751           0.026683   \n",
      "198464                 0.007874           0.365052           0.132440   \n",
      "207661                -0.030362           0.272781           0.079999   \n",
      "140960                 0.006505           0.346579           0.155131   \n",
      "\n",
      "        Aux Services Change  \n",
      "unitid                       \n",
      "128300             0.401069  \n",
      "178439             0.249068  \n",
      "198464             0.232613  \n",
      "207661             0.192782  \n",
      "140960             0.191447  \n"
     ]
    }
   ],
   "source": [
    "print(per_of_total.head())"
   ]
  },
  {
   "cell_type": "code",
   "execution_count": 81,
   "metadata": {},
   "outputs": [
    {
     "data": {
      "text/html": [
       "<div>\n",
       "<style scoped>\n",
       "    .dataframe tbody tr th:only-of-type {\n",
       "        vertical-align: middle;\n",
       "    }\n",
       "\n",
       "    .dataframe tbody tr th {\n",
       "        vertical-align: top;\n",
       "    }\n",
       "\n",
       "    .dataframe thead th {\n",
       "        text-align: right;\n",
       "    }\n",
       "</style>\n",
       "<table border=\"1\" class=\"dataframe\">\n",
       "  <thead>\n",
       "    <tr style=\"text-align: right;\">\n",
       "      <th></th>\n",
       "      <th>% change</th>\n",
       "      <th>Student Services % 18</th>\n",
       "      <th>Student Services % 05</th>\n",
       "      <th>Student Services Change</th>\n",
       "      <th>Aux Services % 18</th>\n",
       "      <th>Aux Services % 05</th>\n",
       "      <th>Aux Services Change</th>\n",
       "    </tr>\n",
       "  </thead>\n",
       "  <tbody>\n",
       "    <tr>\n",
       "      <th>% change</th>\n",
       "      <td>1.000000</td>\n",
       "      <td>-0.002088</td>\n",
       "      <td>0.076519</td>\n",
       "      <td>-0.078275</td>\n",
       "      <td>-0.026768</td>\n",
       "      <td>-0.026353</td>\n",
       "      <td>0.019601</td>\n",
       "    </tr>\n",
       "    <tr>\n",
       "      <th>Student Services % 18</th>\n",
       "      <td>-0.002088</td>\n",
       "      <td>1.000000</td>\n",
       "      <td>0.554349</td>\n",
       "      <td>0.563540</td>\n",
       "      <td>-0.140022</td>\n",
       "      <td>0.004296</td>\n",
       "      <td>-0.106107</td>\n",
       "    </tr>\n",
       "    <tr>\n",
       "      <th>Student Services % 05</th>\n",
       "      <td>0.076519</td>\n",
       "      <td>0.554349</td>\n",
       "      <td>1.000000</td>\n",
       "      <td>-0.375143</td>\n",
       "      <td>-0.166903</td>\n",
       "      <td>-0.050154</td>\n",
       "      <td>-0.050085</td>\n",
       "    </tr>\n",
       "    <tr>\n",
       "      <th>Student Services Change</th>\n",
       "      <td>-0.078275</td>\n",
       "      <td>0.563540</td>\n",
       "      <td>-0.375143</td>\n",
       "      <td>1.000000</td>\n",
       "      <td>0.012255</td>\n",
       "      <td>0.081212</td>\n",
       "      <td>-0.072205</td>\n",
       "    </tr>\n",
       "    <tr>\n",
       "      <th>Aux Services % 18</th>\n",
       "      <td>-0.026768</td>\n",
       "      <td>-0.140022</td>\n",
       "      <td>-0.166903</td>\n",
       "      <td>0.012255</td>\n",
       "      <td>1.000000</td>\n",
       "      <td>0.767983</td>\n",
       "      <td>0.524146</td>\n",
       "    </tr>\n",
       "    <tr>\n",
       "      <th>Aux Services % 05</th>\n",
       "      <td>-0.026353</td>\n",
       "      <td>0.004296</td>\n",
       "      <td>-0.050154</td>\n",
       "      <td>0.081212</td>\n",
       "      <td>0.767983</td>\n",
       "      <td>1.000000</td>\n",
       "      <td>-0.142907</td>\n",
       "    </tr>\n",
       "    <tr>\n",
       "      <th>Aux Services Change</th>\n",
       "      <td>0.019601</td>\n",
       "      <td>-0.106107</td>\n",
       "      <td>-0.050085</td>\n",
       "      <td>-0.072205</td>\n",
       "      <td>0.524146</td>\n",
       "      <td>-0.142907</td>\n",
       "      <td>1.000000</td>\n",
       "    </tr>\n",
       "  </tbody>\n",
       "</table>\n",
       "</div>"
      ],
      "text/plain": [
       "                         % change  Student Services % 18  \\\n",
       "% change                 1.000000              -0.002088   \n",
       "Student Services % 18   -0.002088               1.000000   \n",
       "Student Services % 05    0.076519               0.554349   \n",
       "Student Services Change -0.078275               0.563540   \n",
       "Aux Services % 18       -0.026768              -0.140022   \n",
       "Aux Services % 05       -0.026353               0.004296   \n",
       "Aux Services Change      0.019601              -0.106107   \n",
       "\n",
       "                         Student Services % 05  Student Services Change  \\\n",
       "% change                              0.076519                -0.078275   \n",
       "Student Services % 18                 0.554349                 0.563540   \n",
       "Student Services % 05                 1.000000                -0.375143   \n",
       "Student Services Change              -0.375143                 1.000000   \n",
       "Aux Services % 18                    -0.166903                 0.012255   \n",
       "Aux Services % 05                    -0.050154                 0.081212   \n",
       "Aux Services Change                  -0.050085                -0.072205   \n",
       "\n",
       "                         Aux Services % 18  Aux Services % 05  \\\n",
       "% change                         -0.026768          -0.026353   \n",
       "Student Services % 18            -0.140022           0.004296   \n",
       "Student Services % 05            -0.166903          -0.050154   \n",
       "Student Services Change           0.012255           0.081212   \n",
       "Aux Services % 18                 1.000000           0.767983   \n",
       "Aux Services % 05                 0.767983           1.000000   \n",
       "Aux Services Change               0.524146          -0.142907   \n",
       "\n",
       "                         Aux Services Change  \n",
       "% change                            0.019601  \n",
       "Student Services % 18              -0.106107  \n",
       "Student Services % 05              -0.050085  \n",
       "Student Services Change            -0.072205  \n",
       "Aux Services % 18                   0.524146  \n",
       "Aux Services % 05                  -0.142907  \n",
       "Aux Services Change                 1.000000  "
      ]
     },
     "execution_count": 81,
     "metadata": {},
     "output_type": "execute_result"
    }
   ],
   "source": [
    "per_of_total.corr()"
   ]
  },
  {
   "cell_type": "code",
   "execution_count": 83,
   "metadata": {},
   "outputs": [
    {
     "name": "stdout",
     "output_type": "stream",
     "text": [
      "           f0405_f1a  f0506_f1a_rv  f0607_f1a_rv  f0708_f1a_rv  f0809_f1a_rv  \\\n",
      "UNITID                                                                         \n",
      "100654  1.380967e+08  1.380967e+08  1.395864e+08  1.410084e+08  1.450293e+08   \n",
      "100663  1.339748e+09  1.486443e+09  1.514370e+09  1.668107e+09  1.691563e+09   \n",
      "100706  1.726626e+08  1.803334e+08  1.851169e+08  2.409294e+08  2.493209e+08   \n",
      "100724  8.658987e+07  8.720644e+07  8.720644e+07  1.393478e+08  1.813115e+08   \n",
      "100733  1.906216e+06  1.906216e+06  1.750878e+06  1.750878e+06  1.771137e+06   \n",
      "\n",
      "        f0910_f1a_rv  f1011_f1a_rv  f1112_f1a_rv  f1213_f1a_rv  f1314_f1a_rv  \\\n",
      "UNITID                                                                         \n",
      "100654  1.450293e+08  1.613243e+08  1.598253e+08  1.765894e+08  1.679671e+08   \n",
      "100663  1.943421e+09  1.988341e+09  1.952955e+09  2.124403e+09  2.174203e+09   \n",
      "100706  2.572487e+08  2.857295e+08  2.873309e+08  2.906294e+08  3.111847e+08   \n",
      "100724  1.823894e+08  1.880774e+08  2.386548e+08  2.650395e+08  2.702836e+08   \n",
      "100733  1.750878e+06  1.750878e+06  1.750878e+06  1.750878e+06  1.484613e+07   \n",
      "\n",
      "        f1415_f1a_rv  f1516_f1a_rv  f1617_f1a_rv     f1718_f1a  % change  \n",
      "UNITID                                                                    \n",
      "100654  1.820856e+08  1.841874e+08  1.845585e+08  2.313755e+08  0.595371  \n",
      "100663  2.260566e+09  2.335655e+09  2.426797e+09  2.527816e+09  0.300704  \n",
      "100706  3.384742e+08  3.641851e+08  3.671083e+08  4.086923e+08  0.588705  \n",
      "100724  2.737114e+08  2.745660e+08  2.775239e+08  2.800149e+08  0.535259  \n",
      "100733  1.484613e+07  1.484613e+07  1.484613e+07  1.484613e+07  7.479251  \n"
     ]
    }
   ],
   "source": [
    "df = pd.DataFrame()\n",
    "path = 'C:/Users/sages/Downloads/IPEDS Annual Finance'\n",
    "with os.scandir(path) as it:\n",
    "    for entry in it:\n",
    "        if entry.name.endswith('.csv') and entry.is_file():\n",
    "            file_path = path + '/' + entry.name\n",
    "            stock_format = pd.read_csv(file_path, index_col = 'UNITID')\n",
    "            col_name = Path(entry.name).stem\n",
    "            df[col_name] = stock_format['F1A234']\n",
    "            \n",
    "bldgs = pd.DataFrame(df)\n",
    "bldgs['% change'] = (bldgs['f1718_f1a']-bldgs['f0910_f1a_rv'])/bldgs['f0910_f1a_rv']\n",
    "print(bldgs.head())"
   ]
  },
  {
   "cell_type": "code",
   "execution_count": 84,
   "metadata": {},
   "outputs": [
    {
     "name": "stdout",
     "output_type": "stream",
     "text": [
      "        % change  Student Services % 18  Student Services % 05  \\\n",
      "unitid                                                           \n",
      "128300  8.359465               0.015487               0.000000   \n",
      "178439  0.347431               0.054163               0.030470   \n",
      "198464  0.747560               0.020919               0.013045   \n",
      "207661  0.743281               0.096869               0.127232   \n",
      "140960  1.319488               0.068053               0.061548   \n",
      "\n",
      "        Student Services Change  Aux Services % 18  Aux Services % 05  \\\n",
      "unitid                                                                  \n",
      "128300                 0.015487           0.408984           0.007915   \n",
      "178439                 0.023694           0.275751           0.026683   \n",
      "198464                 0.007874           0.365052           0.132440   \n",
      "207661                -0.030362           0.272781           0.079999   \n",
      "140960                 0.006505           0.346579           0.155131   \n",
      "\n",
      "        Aux Services Change  Bldg % Change  \n",
      "unitid                                      \n",
      "128300             0.401069     129.030422  \n",
      "178439             0.249068       0.002306  \n",
      "198464             0.232613       0.637829  \n",
      "207661             0.192782       1.233775  \n",
      "140960             0.191447       1.517262  \n"
     ]
    }
   ],
   "source": [
    "per_of_total['Bldg % Change'] = bldgs['% change']\n",
    "print(per_of_total.head())"
   ]
  },
  {
   "cell_type": "code",
   "execution_count": 85,
   "metadata": {},
   "outputs": [
    {
     "data": {
      "text/html": [
       "<div>\n",
       "<style scoped>\n",
       "    .dataframe tbody tr th:only-of-type {\n",
       "        vertical-align: middle;\n",
       "    }\n",
       "\n",
       "    .dataframe tbody tr th {\n",
       "        vertical-align: top;\n",
       "    }\n",
       "\n",
       "    .dataframe thead th {\n",
       "        text-align: right;\n",
       "    }\n",
       "</style>\n",
       "<table border=\"1\" class=\"dataframe\">\n",
       "  <thead>\n",
       "    <tr style=\"text-align: right;\">\n",
       "      <th></th>\n",
       "      <th>% change</th>\n",
       "      <th>Student Services % 18</th>\n",
       "      <th>Student Services % 05</th>\n",
       "      <th>Student Services Change</th>\n",
       "      <th>Aux Services % 18</th>\n",
       "      <th>Aux Services % 05</th>\n",
       "      <th>Aux Services Change</th>\n",
       "      <th>Bldg % Change</th>\n",
       "    </tr>\n",
       "  </thead>\n",
       "  <tbody>\n",
       "    <tr>\n",
       "      <th>% change</th>\n",
       "      <td>1.000000</td>\n",
       "      <td>-0.002088</td>\n",
       "      <td>0.076519</td>\n",
       "      <td>-0.078275</td>\n",
       "      <td>-0.026768</td>\n",
       "      <td>-0.026353</td>\n",
       "      <td>0.019601</td>\n",
       "      <td>0.162645</td>\n",
       "    </tr>\n",
       "    <tr>\n",
       "      <th>Student Services % 18</th>\n",
       "      <td>-0.002088</td>\n",
       "      <td>1.000000</td>\n",
       "      <td>0.554349</td>\n",
       "      <td>0.563540</td>\n",
       "      <td>-0.140022</td>\n",
       "      <td>0.004296</td>\n",
       "      <td>-0.106107</td>\n",
       "      <td>-0.065712</td>\n",
       "    </tr>\n",
       "    <tr>\n",
       "      <th>Student Services % 05</th>\n",
       "      <td>0.076519</td>\n",
       "      <td>0.554349</td>\n",
       "      <td>1.000000</td>\n",
       "      <td>-0.375143</td>\n",
       "      <td>-0.166903</td>\n",
       "      <td>-0.050154</td>\n",
       "      <td>-0.050085</td>\n",
       "      <td>-0.066648</td>\n",
       "    </tr>\n",
       "    <tr>\n",
       "      <th>Student Services Change</th>\n",
       "      <td>-0.078275</td>\n",
       "      <td>0.563540</td>\n",
       "      <td>-0.375143</td>\n",
       "      <td>1.000000</td>\n",
       "      <td>0.012255</td>\n",
       "      <td>0.081212</td>\n",
       "      <td>-0.072205</td>\n",
       "      <td>-0.006513</td>\n",
       "    </tr>\n",
       "    <tr>\n",
       "      <th>Aux Services % 18</th>\n",
       "      <td>-0.026768</td>\n",
       "      <td>-0.140022</td>\n",
       "      <td>-0.166903</td>\n",
       "      <td>0.012255</td>\n",
       "      <td>1.000000</td>\n",
       "      <td>0.767983</td>\n",
       "      <td>0.524146</td>\n",
       "      <td>0.044429</td>\n",
       "    </tr>\n",
       "    <tr>\n",
       "      <th>Aux Services % 05</th>\n",
       "      <td>-0.026353</td>\n",
       "      <td>0.004296</td>\n",
       "      <td>-0.050154</td>\n",
       "      <td>0.081212</td>\n",
       "      <td>0.767983</td>\n",
       "      <td>1.000000</td>\n",
       "      <td>-0.142907</td>\n",
       "      <td>-0.049532</td>\n",
       "    </tr>\n",
       "    <tr>\n",
       "      <th>Aux Services Change</th>\n",
       "      <td>0.019601</td>\n",
       "      <td>-0.106107</td>\n",
       "      <td>-0.050085</td>\n",
       "      <td>-0.072205</td>\n",
       "      <td>0.524146</td>\n",
       "      <td>-0.142907</td>\n",
       "      <td>1.000000</td>\n",
       "      <td>0.134779</td>\n",
       "    </tr>\n",
       "    <tr>\n",
       "      <th>Bldg % Change</th>\n",
       "      <td>0.162645</td>\n",
       "      <td>-0.065712</td>\n",
       "      <td>-0.066648</td>\n",
       "      <td>-0.006513</td>\n",
       "      <td>0.044429</td>\n",
       "      <td>-0.049532</td>\n",
       "      <td>0.134779</td>\n",
       "      <td>1.000000</td>\n",
       "    </tr>\n",
       "  </tbody>\n",
       "</table>\n",
       "</div>"
      ],
      "text/plain": [
       "                         % change  Student Services % 18  \\\n",
       "% change                 1.000000              -0.002088   \n",
       "Student Services % 18   -0.002088               1.000000   \n",
       "Student Services % 05    0.076519               0.554349   \n",
       "Student Services Change -0.078275               0.563540   \n",
       "Aux Services % 18       -0.026768              -0.140022   \n",
       "Aux Services % 05       -0.026353               0.004296   \n",
       "Aux Services Change      0.019601              -0.106107   \n",
       "Bldg % Change            0.162645              -0.065712   \n",
       "\n",
       "                         Student Services % 05  Student Services Change  \\\n",
       "% change                              0.076519                -0.078275   \n",
       "Student Services % 18                 0.554349                 0.563540   \n",
       "Student Services % 05                 1.000000                -0.375143   \n",
       "Student Services Change              -0.375143                 1.000000   \n",
       "Aux Services % 18                    -0.166903                 0.012255   \n",
       "Aux Services % 05                    -0.050154                 0.081212   \n",
       "Aux Services Change                  -0.050085                -0.072205   \n",
       "Bldg % Change                        -0.066648                -0.006513   \n",
       "\n",
       "                         Aux Services % 18  Aux Services % 05  \\\n",
       "% change                         -0.026768          -0.026353   \n",
       "Student Services % 18            -0.140022           0.004296   \n",
       "Student Services % 05            -0.166903          -0.050154   \n",
       "Student Services Change           0.012255           0.081212   \n",
       "Aux Services % 18                 1.000000           0.767983   \n",
       "Aux Services % 05                 0.767983           1.000000   \n",
       "Aux Services Change               0.524146          -0.142907   \n",
       "Bldg % Change                     0.044429          -0.049532   \n",
       "\n",
       "                         Aux Services Change  Bldg % Change  \n",
       "% change                            0.019601       0.162645  \n",
       "Student Services % 18              -0.106107      -0.065712  \n",
       "Student Services % 05              -0.050085      -0.066648  \n",
       "Student Services Change            -0.072205      -0.006513  \n",
       "Aux Services % 18                   0.524146       0.044429  \n",
       "Aux Services % 05                  -0.142907      -0.049532  \n",
       "Aux Services Change                 1.000000       0.134779  \n",
       "Bldg % Change                       0.134779       1.000000  "
      ]
     },
     "execution_count": 85,
     "metadata": {},
     "output_type": "execute_result"
    }
   ],
   "source": [
    "per_of_total.corr()"
   ]
  },
  {
   "cell_type": "code",
   "execution_count": 86,
   "metadata": {},
   "outputs": [],
   "source": [
    "final_chart = per_of_total[['% change','Student Services Change','Aux Services Change','Bldg % Change']]"
   ]
  },
  {
   "cell_type": "code",
   "execution_count": 87,
   "metadata": {},
   "outputs": [
    {
     "name": "stdout",
     "output_type": "stream",
     "text": [
      "        % change  Student Services Change  Aux Services Change  Bldg % Change\n",
      "unitid                                                                       \n",
      "128300  8.359465                 0.015487             0.401069     129.030422\n",
      "178439  0.347431                 0.023694             0.249068       0.002306\n",
      "198464  0.747560                 0.007874             0.232613       0.637829\n",
      "207661  0.743281                -0.030362             0.192782       1.233775\n",
      "140960  1.319488                 0.006505             0.191447       1.517262\n"
     ]
    }
   ],
   "source": [
    "print(final_chart.head())"
   ]
  },
  {
   "cell_type": "code",
   "execution_count": 88,
   "metadata": {},
   "outputs": [
    {
     "data": {
      "text/html": [
       "<div>\n",
       "<style scoped>\n",
       "    .dataframe tbody tr th:only-of-type {\n",
       "        vertical-align: middle;\n",
       "    }\n",
       "\n",
       "    .dataframe tbody tr th {\n",
       "        vertical-align: top;\n",
       "    }\n",
       "\n",
       "    .dataframe thead th {\n",
       "        text-align: right;\n",
       "    }\n",
       "</style>\n",
       "<table border=\"1\" class=\"dataframe\">\n",
       "  <thead>\n",
       "    <tr style=\"text-align: right;\">\n",
       "      <th></th>\n",
       "      <th>% change</th>\n",
       "      <th>Student Services Change</th>\n",
       "      <th>Aux Services Change</th>\n",
       "      <th>Bldg % Change</th>\n",
       "    </tr>\n",
       "  </thead>\n",
       "  <tbody>\n",
       "    <tr>\n",
       "      <th>% change</th>\n",
       "      <td>1.000000</td>\n",
       "      <td>-0.078275</td>\n",
       "      <td>0.019601</td>\n",
       "      <td>0.162645</td>\n",
       "    </tr>\n",
       "    <tr>\n",
       "      <th>Student Services Change</th>\n",
       "      <td>-0.078275</td>\n",
       "      <td>1.000000</td>\n",
       "      <td>-0.072205</td>\n",
       "      <td>-0.006513</td>\n",
       "    </tr>\n",
       "    <tr>\n",
       "      <th>Aux Services Change</th>\n",
       "      <td>0.019601</td>\n",
       "      <td>-0.072205</td>\n",
       "      <td>1.000000</td>\n",
       "      <td>0.134779</td>\n",
       "    </tr>\n",
       "    <tr>\n",
       "      <th>Bldg % Change</th>\n",
       "      <td>0.162645</td>\n",
       "      <td>-0.006513</td>\n",
       "      <td>0.134779</td>\n",
       "      <td>1.000000</td>\n",
       "    </tr>\n",
       "  </tbody>\n",
       "</table>\n",
       "</div>"
      ],
      "text/plain": [
       "                         % change  Student Services Change  \\\n",
       "% change                 1.000000                -0.078275   \n",
       "Student Services Change -0.078275                 1.000000   \n",
       "Aux Services Change      0.019601                -0.072205   \n",
       "Bldg % Change            0.162645                -0.006513   \n",
       "\n",
       "                         Aux Services Change  Bldg % Change  \n",
       "% change                            0.019601       0.162645  \n",
       "Student Services Change            -0.072205      -0.006513  \n",
       "Aux Services Change                 1.000000       0.134779  \n",
       "Bldg % Change                       0.134779       1.000000  "
      ]
     },
     "execution_count": 88,
     "metadata": {},
     "output_type": "execute_result"
    }
   ],
   "source": [
    "final_chart.corr()"
   ]
  },
  {
   "cell_type": "code",
   "execution_count": 91,
   "metadata": {},
   "outputs": [],
   "source": [
    "path = 'C:/Users/sages/Downloads/IPEDS Annual Finance'\n",
    "d = {}\n",
    "with os.scandir(path) as it:\n",
    "    for entry in it:\n",
    "        if entry.name.endswith('.csv') and entry.is_file():\n",
    "            file_path = path + '/' + entry.name\n",
    "            stock_format = pd.read_csv(file_path, index_col = 0)\n",
    "            col_name = Path(entry.name).stem\n",
    "            d[col_name] = pd.DataFrame(stock_format)"
   ]
  },
  {
   "cell_type": "code",
   "execution_count": 94,
   "metadata": {},
   "outputs": [
    {
     "name": "stdout",
     "output_type": "stream",
     "text": [
      "dict_keys(['f0405_f1a', 'f0506_f1a_rv', 'f0607_f1a_rv', 'f0708_f1a_rv', 'f0809_f1a_rv', 'f0910_f1a_rv', 'f1011_f1a_rv', 'f1112_f1a_rv', 'f1213_f1a_rv', 'f1314_f1a_rv', 'f1415_f1a_rv', 'f1516_f1a_rv', 'f1617_f1a_rv', 'f1718_f1a'])\n"
     ]
    }
   ],
   "source": [
    "print(d.keys())"
   ]
  },
  {
   "cell_type": "code",
   "execution_count": 95,
   "metadata": {},
   "outputs": [],
   "source": [
    "with pd.ExcelWriter('output.xlsx') as writer:\n",
    "    for key in d.keys():\n",
    "        d[key].to_excel(writer, sheet_name=key)"
   ]
  },
  {
   "cell_type": "code",
   "execution_count": 96,
   "metadata": {},
   "outputs": [],
   "source": [
    "path = 'C:/Users/sages/Downloads/IPEDS Annual Finance FASB'\n",
    "d = {}\n",
    "with os.scandir(path) as it:\n",
    "    for entry in it:\n",
    "        if entry.name.endswith('.csv') and entry.is_file():\n",
    "            file_path = path + '/' + entry.name\n",
    "            stock_format = pd.read_csv(file_path, index_col = 0)\n",
    "            col_name = Path(entry.name).stem\n",
    "            d[col_name] = pd.DataFrame(stock_format)\n",
    "            \n",
    "with pd.ExcelWriter('output.xlsx') as writer:\n",
    "    for key in d.keys():\n",
    "        d[key].to_excel(writer, sheet_name=key)"
   ]
  },
  {
   "cell_type": "code",
   "execution_count": null,
   "metadata": {},
   "outputs": [],
   "source": []
  }
 ],
 "metadata": {
  "kernelspec": {
   "display_name": "Python 3",
   "language": "python",
   "name": "python3"
  },
  "language_info": {
   "codemirror_mode": {
    "name": "ipython",
    "version": 3
   },
   "file_extension": ".py",
   "mimetype": "text/x-python",
   "name": "python",
   "nbconvert_exporter": "python",
   "pygments_lexer": "ipython3",
   "version": "3.7.3"
  }
 },
 "nbformat": 4,
 "nbformat_minor": 4
}
